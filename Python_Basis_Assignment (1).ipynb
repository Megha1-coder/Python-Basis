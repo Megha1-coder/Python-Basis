{
  "nbformat": 4,
  "nbformat_minor": 0,
  "metadata": {
    "colab": {
      "provenance": []
    },
    "kernelspec": {
      "name": "python3",
      "display_name": "Python 3"
    },
    "language_info": {
      "name": "python"
    }
  },
  "cells": [
    {
      "cell_type": "code",
      "execution_count": null,
      "metadata": {
        "id": "swKZ7w0YjbhK"
      },
      "outputs": [],
      "source": [
        "\n"
      ]
    },
    {
      "cell_type": "markdown",
      "source": [
        "**Theory Questions**"
      ],
      "metadata": {
        "id": "w-y_nQcrodje"
      }
    },
    {
      "cell_type": "markdown",
      "source": [
        "Q 1: What is Python, and why is it popular?\n",
        "  - Python is a programming language that is easy to understand and write. It is popular choice among developers and programmers because:\n",
        "1.\tIt is widely used in the data industries\n",
        "2.\tEase of learning\n",
        "3.\tPython offers versatile Web-Development solutions\n",
        "4.\tPython if effective, fast and reliable\n",
        "5.\tPython empowers custom automation\n",
        "\n",
        "Q 2: What is an interpreter in Python?\n",
        "  - Interpreter is a computer program that converts each high level program statement into machine code that the computer can understand.\n",
        "\n",
        "Q 3: What are pre-defined keywords in Python?\n",
        "  - Keywords are reserved words in Python that have special meanings and cannot be used as identifiers (variable names, function names, etc.). Keywords are case-sensitive and cannot be redefined or overridden within a Python program.\n",
        "\tExamples of keywords include if, else, while, for, def, class, import, try, except, return, True, False, None, etc.\n",
        "\n",
        "Q 4: Can keywords be used as variable names?\n",
        "  - Keywords cannot be used as variable names as they cannot be used as identifiers.\n",
        "\n",
        "Q 5: What is mutability in Python?\n",
        "  - Mutability affects how objects are stored and manipulated in memory, impacting performance, memory usage, and concurrency in Python programs.\n",
        "\n",
        "Q 6: Why are lists mutable, but tuples are immutable?\n",
        "  - Lists are considered mutable data types because they can be modified or changed after they are created. This means that the elements of a list can be added, removed, or modified without creating a new list.\n",
        "However, tuples are not modifiable in nature, they cannot be changed. Therefore, we can call them immutable tuples.\n",
        "\n",
        "Q 7: What is the difference between “==” and “is” operators in Python?\n",
        "  - A is expression evaluates to True if two variables point to the same (identical) object. A == expression evaluates to True if the objects referred to by the variables are equal (have the same contents).\n",
        "\n",
        "Q 8: What are logical operators in Python?\n",
        "  - In Python, logical operators are used to combine multiple conditions together and evaluate them as a single Boolean expression. There are three types of logical operators in Python: `and`, `or`, and `not`. The `and` operator returns `True` if both conditions it is evaluating are true, otherwise it returns `False`.\n",
        "\n",
        "Q 9: What is type casting in Python?\n",
        "  - Type casting, also referred to as type conversion, is the process of changing one data type to another in Python. Python provides built-in functions for type casting, such as int(), float(), str(), list(), tuple(), dict(), etc.\n",
        "\n",
        "Q 10: What is the difference between implicit and explicit type casting?\n",
        "  - Explicit type conversion in programming is done manually by the programmer, while implicit conversion is handled automatically by the compiler. In more detail, explicit type conversion, also known as type casting, is when the programmer intentionally changes the data type of a value.\n",
        "\n",
        "Q 11: What is the purpose of conditional statements in Python?\n",
        "  - Conditionals in Python are used to execute code based on the evaluation of one or more conditions. Python supports conditional statements such as if, elif (else if), and else to control the flow of execution.\n",
        "\n",
        "Q 12: How does the elif statement work?\n",
        "  - The “elif” keyword in Python, stands for “else if”. It can be used in conditional statements to check for multiple conditions. For example, if the first condition is false, it moves on to the next “elif” statement to check if that condition is true.\n",
        "\n",
        "Q 13: What is the difference between for and while loops?\n",
        "  -  Both for loop and while loop is used to execute the statements repeatedly while the program runs. The major difference between for loop and while loop is that for loop is used when the number of iterations is known, whereas execution is done in a while loop until the statement in the program is proved wrong.\n",
        "\n",
        "Q 14: Describe a scenario where a while loop is more suitable than a for loop.\n",
        "  - While loops are more beneficial than for loops when you need your loop to be controlled by user input, when you need to repeat a code segment more than 100 times, and when you want to use an integer variable to control how many times a loop runs.\n",
        "\n"
      ],
      "metadata": {
        "id": "xdWtXf4-nFB8"
      }
    },
    {
      "cell_type": "markdown",
      "source": [],
      "metadata": {
        "id": "EhJ4rdD-nC1q"
      }
    },
    {
      "cell_type": "markdown",
      "source": [
        "**Practical Questions**"
      ],
      "metadata": {
        "id": "WMj3T3Q2oxZs"
      }
    },
    {
      "cell_type": "code",
      "source": [
        "# Q.1: Write a Python program to print \"Hello, World!_\n",
        "\n",
        "# A 1:\n",
        "print(\"Hello, World!\")\n"
      ],
      "metadata": {
        "colab": {
          "base_uri": "https://localhost:8080/"
        },
        "id": "23NlzYabo5-g",
        "outputId": "2ebb2e5e-d978-4707-81dd-183e57673411"
      },
      "execution_count": null,
      "outputs": [
        {
          "output_type": "stream",
          "name": "stdout",
          "text": [
            "Hello, World!\n"
          ]
        }
      ]
    },
    {
      "cell_type": "code",
      "source": [
        "# Q 2: Write a Python program that displays your name and age.\n",
        "\n",
        "# A 2:\n",
        "name= input(\"Enter your name\")\n",
        "age= int(input(\"Enter your age\"))\n",
        "print(\"My name is\", name, \"and my age is\", age)\n"
      ],
      "metadata": {
        "colab": {
          "base_uri": "https://localhost:8080/"
        },
        "id": "2FyFpBy2paY3",
        "outputId": "ab3e1a6c-977d-41f1-8fc0-60ff71499ab7"
      },
      "execution_count": null,
      "outputs": [
        {
          "output_type": "stream",
          "name": "stdout",
          "text": [
            "Enter your nameMegha Gangrade\n",
            "Enter your age30\n",
            "My name is Megha Gangrade and my age is 30\n"
          ]
        }
      ]
    },
    {
      "cell_type": "code",
      "source": [
        "# Q 3: Write code to print all the pre-defined keywords in Python using the keyword library.\n",
        "# A 3:\n",
        "help('keywords')"
      ],
      "metadata": {
        "colab": {
          "base_uri": "https://localhost:8080/"
        },
        "id": "zm4fB6PlqfS_",
        "outputId": "15c9efbf-40f2-46c0-bef9-f14a04972ca3"
      },
      "execution_count": null,
      "outputs": [
        {
          "output_type": "stream",
          "name": "stdout",
          "text": [
            "\n",
            "Here is a list of the Python keywords.  Enter any keyword to get more help.\n",
            "\n",
            "False               class               from                or\n",
            "None                continue            global              pass\n",
            "True                def                 if                  raise\n",
            "and                 del                 import              return\n",
            "as                  elif                in                  try\n",
            "assert              else                is                  while\n",
            "async               except              lambda              with\n",
            "await               finally             nonlocal            yield\n",
            "break               for                 not                 \n",
            "\n"
          ]
        }
      ]
    },
    {
      "cell_type": "code",
      "source": [
        "# Q 4: Write a program that checks if a given word is a Python keyword."
      ],
      "metadata": {
        "id": "eexq9Ebw4bba"
      },
      "execution_count": null,
      "outputs": []
    },
    {
      "cell_type": "code",
      "source": [
        "#A 4: check if the word is keyword\n",
        "keyword.iskeyword('if')\n"
      ],
      "metadata": {
        "colab": {
          "base_uri": "https://localhost:8080/"
        },
        "id": "0w-8NSCg7jRd",
        "outputId": "4ce1363d-cf72-47f7-dfb2-72ee0c0c5103"
      },
      "execution_count": null,
      "outputs": [
        {
          "output_type": "execute_result",
          "data": {
            "text/plain": [
              "True"
            ]
          },
          "metadata": {},
          "execution_count": 22
        }
      ]
    },
    {
      "cell_type": "code",
      "source": [
        "keyword.iskeyword('megha')"
      ],
      "metadata": {
        "colab": {
          "base_uri": "https://localhost:8080/"
        },
        "id": "HSOxDoY-Af1k",
        "outputId": "071b53b7-fe47-4d43-ee7f-163cc3b78486"
      },
      "execution_count": null,
      "outputs": [
        {
          "output_type": "execute_result",
          "data": {
            "text/plain": [
              "False"
            ]
          },
          "metadata": {},
          "execution_count": 23
        }
      ]
    },
    {
      "cell_type": "code",
      "source": [
        "#check if the word given by user is a keyword\n",
        "Word = input(\"Enter a word\")\n",
        "if keyword.iskeyword(Word):\n",
        "    print(Word, \"is a keyword\")\n",
        "else:\n",
        "    print(Word, \"is not a keyword\")"
      ],
      "metadata": {
        "colab": {
          "base_uri": "https://localhost:8080/"
        },
        "id": "Ly04NFKOAsSK",
        "outputId": "3107222e-fe4a-4ca3-9bc5-dc5e5783f956"
      },
      "execution_count": null,
      "outputs": [
        {
          "output_type": "stream",
          "name": "stdout",
          "text": [
            "Enter a wordMegha\n",
            "Megha is not a keyword\n"
          ]
        }
      ]
    },
    {
      "cell_type": "code",
      "source": [
        "'''\n",
        "#Q 5: Create a list and tuple in Python, and demonstrate how attempting to change an element works differently\n",
        "for each.\n",
        "'''"
      ],
      "metadata": {
        "colab": {
          "base_uri": "https://localhost:8080/",
          "height": 35
        },
        "id": "HHjfkNFzBDej",
        "outputId": "0748ac14-b918-44f1-f4e9-4c4f0fa51aed"
      },
      "execution_count": null,
      "outputs": [
        {
          "output_type": "execute_result",
          "data": {
            "text/plain": [
              "'\\n#Q 5: Create a list and tuple in Python, and demonstrate how attempting to change an element works differently\\nfor each.\\n'"
            ],
            "application/vnd.google.colaboratory.intrinsic+json": {
              "type": "string"
            }
          },
          "metadata": {},
          "execution_count": 7
        }
      ]
    },
    {
      "cell_type": "code",
      "source": [
        "# A 5: create a list and change to show that list is a mutable object\n",
        "list_cont = [1, 2, 3, 4, 5, (2-1j), \"Megha\"]\n",
        "list_cont"
      ],
      "metadata": {
        "colab": {
          "base_uri": "https://localhost:8080/"
        },
        "id": "cz95cSyuBq1O",
        "outputId": "14004d2b-095e-45e8-c73c-3b88acc639f3"
      },
      "execution_count": null,
      "outputs": [
        {
          "output_type": "execute_result",
          "data": {
            "text/plain": [
              "[1, 2, 3, 4, 5, (2-1j), 'Megha']"
            ]
          },
          "metadata": {},
          "execution_count": 31
        }
      ]
    },
    {
      "cell_type": "code",
      "source": [
        "list_cont[2]"
      ],
      "metadata": {
        "colab": {
          "base_uri": "https://localhost:8080/"
        },
        "id": "Klb9cS8fEuRQ",
        "outputId": "910a2e08-7e17-431f-8c58-d76fb188acfe"
      },
      "execution_count": null,
      "outputs": [
        {
          "output_type": "execute_result",
          "data": {
            "text/plain": [
              "3"
            ]
          },
          "metadata": {},
          "execution_count": 33
        }
      ]
    },
    {
      "cell_type": "code",
      "source": [
        "list_cont[2]= 7 #the element from the list placed at 2nd place will get changed\n",
        "list_cont"
      ],
      "metadata": {
        "colab": {
          "base_uri": "https://localhost:8080/"
        },
        "id": "PNJ295J2FVbj",
        "outputId": "f4f2499e-39ec-4400-9310-28649eb93990"
      },
      "execution_count": null,
      "outputs": [
        {
          "output_type": "execute_result",
          "data": {
            "text/plain": [
              "[1, 2, 7, 4, 5, (2-1j), 'Megha']"
            ]
          },
          "metadata": {},
          "execution_count": 35
        }
      ]
    },
    {
      "cell_type": "code",
      "source": [
        "list_cont[6]"
      ],
      "metadata": {
        "colab": {
          "base_uri": "https://localhost:8080/",
          "height": 35
        },
        "id": "Cg75Or0-FoFi",
        "outputId": "0e90f7d2-aa4c-4c89-dc67-e63f1467fd33"
      },
      "execution_count": null,
      "outputs": [
        {
          "output_type": "execute_result",
          "data": {
            "text/plain": [
              "'Megha'"
            ],
            "application/vnd.google.colaboratory.intrinsic+json": {
              "type": "string"
            }
          },
          "metadata": {},
          "execution_count": 36
        }
      ]
    },
    {
      "cell_type": "code",
      "source": [
        "list_cont[6]= \"Gangrade\" #string will also get changed in the list\n",
        "list_cont"
      ],
      "metadata": {
        "colab": {
          "base_uri": "https://localhost:8080/"
        },
        "id": "_ZUdFQEEF9TK",
        "outputId": "d542e69c-5f82-422d-a43c-1c16ecf0cda3"
      },
      "execution_count": null,
      "outputs": [
        {
          "output_type": "execute_result",
          "data": {
            "text/plain": [
              "[1, 2, 7, 4, 5, (2-1j), 'Gangrade']"
            ]
          },
          "metadata": {},
          "execution_count": 37
        }
      ]
    },
    {
      "cell_type": "code",
      "source": [
        "#Tuple is a immutable object, example-\n",
        "tuple= (123)\n",
        "tuple"
      ],
      "metadata": {
        "colab": {
          "base_uri": "https://localhost:8080/"
        },
        "id": "PrXJXmSDGGx9",
        "outputId": "9e96891c-77d5-432d-ffa2-c653feb2da44"
      },
      "execution_count": null,
      "outputs": [
        {
          "output_type": "execute_result",
          "data": {
            "text/plain": [
              "123"
            ]
          },
          "metadata": {},
          "execution_count": 40
        }
      ]
    },
    {
      "cell_type": "code",
      "source": [
        "tuple[0]= \"4\" #it cannot be chnaged and so showing an error\n",
        "tuple"
      ],
      "metadata": {
        "colab": {
          "base_uri": "https://localhost:8080/",
          "height": 159
        },
        "id": "NCianulsGoTs",
        "outputId": "8a9b1dc3-0721-42a6-f014-569d21654a31"
      },
      "execution_count": null,
      "outputs": [
        {
          "output_type": "error",
          "ename": "TypeError",
          "evalue": "'int' object does not support item assignment",
          "traceback": [
            "\u001b[0;31m---------------------------------------------------------------------------\u001b[0m",
            "\u001b[0;31mTypeError\u001b[0m                                 Traceback (most recent call last)",
            "\u001b[0;32m<ipython-input-41-2a0f25b3a153>\u001b[0m in \u001b[0;36m<cell line: 1>\u001b[0;34m()\u001b[0m\n\u001b[0;32m----> 1\u001b[0;31m \u001b[0mtuple\u001b[0m\u001b[0;34m[\u001b[0m\u001b[0;36m0\u001b[0m\u001b[0;34m]\u001b[0m\u001b[0;34m=\u001b[0m \u001b[0;34m\"4\"\u001b[0m\u001b[0;34m\u001b[0m\u001b[0;34m\u001b[0m\u001b[0m\n\u001b[0m\u001b[1;32m      2\u001b[0m \u001b[0mtuple\u001b[0m\u001b[0;34m\u001b[0m\u001b[0;34m\u001b[0m\u001b[0m\n",
            "\u001b[0;31mTypeError\u001b[0m: 'int' object does not support item assignment"
          ]
        }
      ]
    },
    {
      "cell_type": "code",
      "source": [
        "# Q 6: Write a function to demonstrate the behavior of mutable and immutable arguments.\n",
        "\n",
        "# A 6:  we can demonstrate the behaviour of mutable and immutable arguments with the help of lists and tuples.\n",
        "# List is mutable, however Tuple is immutable in nature i.e. its values cannot be changed.\n",
        "#example- String is immutable\n",
        "word= \"Megha\"\n",
        "word\n"
      ],
      "metadata": {
        "id": "cduSvf6jGv2K",
        "colab": {
          "base_uri": "https://localhost:8080/",
          "height": 35
        },
        "outputId": "8f4ee967-bd34-4ff1-dbe2-3a5985cdbd22"
      },
      "execution_count": null,
      "outputs": [
        {
          "output_type": "execute_result",
          "data": {
            "text/plain": [
              "'Megha'"
            ],
            "application/vnd.google.colaboratory.intrinsic+json": {
              "type": "string"
            }
          },
          "metadata": {},
          "execution_count": 8
        }
      ]
    },
    {
      "cell_type": "code",
      "source": [
        "word[0]= 'G'\n",
        "word"
      ],
      "metadata": {
        "colab": {
          "base_uri": "https://localhost:8080/",
          "height": 159
        },
        "id": "JCs3ggKAcg8k",
        "outputId": "0198b8de-9e19-4ed0-b265-e13e8ff38783"
      },
      "execution_count": null,
      "outputs": [
        {
          "output_type": "error",
          "ename": "TypeError",
          "evalue": "'str' object does not support item assignment",
          "traceback": [
            "\u001b[0;31m---------------------------------------------------------------------------\u001b[0m",
            "\u001b[0;31mTypeError\u001b[0m                                 Traceback (most recent call last)",
            "\u001b[0;32m<ipython-input-44-8aa005eeb0ec>\u001b[0m in \u001b[0;36m<cell line: 1>\u001b[0;34m()\u001b[0m\n\u001b[0;32m----> 1\u001b[0;31m \u001b[0mword\u001b[0m\u001b[0;34m[\u001b[0m\u001b[0;36m0\u001b[0m\u001b[0;34m]\u001b[0m\u001b[0;34m=\u001b[0m \u001b[0;34m'G'\u001b[0m\u001b[0;34m\u001b[0m\u001b[0;34m\u001b[0m\u001b[0m\n\u001b[0m\u001b[1;32m      2\u001b[0m \u001b[0mword\u001b[0m\u001b[0;34m\u001b[0m\u001b[0;34m\u001b[0m\u001b[0m\n",
            "\u001b[0;31mTypeError\u001b[0m: 'str' object does not support item assignment"
          ]
        }
      ]
    },
    {
      "cell_type": "code",
      "source": [
        "#List is mutable in nature i.e. their values can be changes\n",
        "my_list= [1, 2, 3, 4, 5]\n",
        "my_list\n"
      ],
      "metadata": {
        "colab": {
          "base_uri": "https://localhost:8080/"
        },
        "id": "EMZHHJE5cpNL",
        "outputId": "3a843276-62f8-4461-cd2b-d6ee699669bc"
      },
      "execution_count": null,
      "outputs": [
        {
          "output_type": "execute_result",
          "data": {
            "text/plain": [
              "[1, 2, 3, 4, 5]"
            ]
          },
          "metadata": {},
          "execution_count": 45
        }
      ]
    },
    {
      "cell_type": "code",
      "source": [
        "my_list[0]= 10\n",
        "my_list"
      ],
      "metadata": {
        "colab": {
          "base_uri": "https://localhost:8080/"
        },
        "id": "7rk2zYM6dg3q",
        "outputId": "dbf9c029-fa73-4adc-a742-2da54a5d3392"
      },
      "execution_count": null,
      "outputs": [
        {
          "output_type": "execute_result",
          "data": {
            "text/plain": [
              "[10, 2, 3, 4, 5]"
            ]
          },
          "metadata": {},
          "execution_count": 46
        }
      ]
    },
    {
      "cell_type": "code",
      "source": [
        "# Q 7: Question 6 and 7 is repeating"
      ],
      "metadata": {
        "id": "0T-EW1A5dnHI"
      },
      "execution_count": null,
      "outputs": []
    },
    {
      "cell_type": "code",
      "source": [
        "# Q 8: Write a program to demonstrate the use of logical operators."
      ],
      "metadata": {
        "id": "HHuAlp4Yd5NO"
      },
      "execution_count": null,
      "outputs": []
    },
    {
      "cell_type": "code",
      "source": [
        "# A 8: Logical operators ib Python are \"and, or, not. Please find below example to demonstrate\n",
        "a = 10 #example of and operator\n",
        "b = 10\n",
        "c = -10\n",
        "if a > 0 and b > 0:\n",
        "    print(\"The numbers are greater than 0\")\n",
        "if a > 0 and b > 0 and c > 0:\n",
        "    print(\"The numbers are greater than 0\")\n",
        "else:\n",
        "    print(\"Atleast one number is not greater than 0\")"
      ],
      "metadata": {
        "colab": {
          "base_uri": "https://localhost:8080/"
        },
        "id": "w0kR9-2meZdJ",
        "outputId": "474616e6-2393-4c9d-e350-a5de5c9e1ce9"
      },
      "execution_count": null,
      "outputs": [
        {
          "output_type": "stream",
          "name": "stdout",
          "text": [
            "The numbers are greater than 0\n",
            "Atleast one number is not greater than 0\n"
          ]
        }
      ]
    },
    {
      "cell_type": "code",
      "source": [
        "a = 10 #example of or operator\n",
        "b = -10\n",
        "c = 0\n",
        "if a > 0 or b > 0:\n",
        "    print(\"Either of the number is greater than 0\")\n",
        "else:\n",
        "    print(\"No number is greater than 0\")\n",
        "if b > 0 or c > 0:\n",
        "    print(\"Either of the number is greater than 0\")\n",
        "else:\n",
        "    print(\"No number is greater than 0\")"
      ],
      "metadata": {
        "colab": {
          "base_uri": "https://localhost:8080/"
        },
        "id": "N4TenKmyhgmM",
        "outputId": "ccd1f951-968c-4b63-dc5e-4671d227080a"
      },
      "execution_count": null,
      "outputs": [
        {
          "output_type": "stream",
          "name": "stdout",
          "text": [
            "Either of the number is greater than 0\n",
            "No number is greater than 0\n"
          ]
        }
      ]
    },
    {
      "cell_type": "code",
      "source": [
        "a = 10 #example of not operator\n",
        "\n",
        "if not a:\n",
        "    print(\"Boolean value of a is True\")\n",
        "if not (a % 3 == 0 or a % 5 == 0):\n",
        "    print(\"10 is not divisible by either 3 or 5\")\n",
        "else:\n",
        "    print(\"10 is divisible by either 3 or 5\")"
      ],
      "metadata": {
        "colab": {
          "base_uri": "https://localhost:8080/"
        },
        "id": "yn-gwYYiiBWg",
        "outputId": "45accd45-ec2a-48fe-a207-2f6a42018a41"
      },
      "execution_count": null,
      "outputs": [
        {
          "output_type": "stream",
          "name": "stdout",
          "text": [
            "10 is divisible by either 3 or 5\n"
          ]
        }
      ]
    },
    {
      "cell_type": "code",
      "source": [
        "# Q 9: Write a Python program to convert user input from string to integer, float, and boolean types."
      ],
      "metadata": {
        "id": "8yFbT_qviMSq"
      },
      "execution_count": null,
      "outputs": []
    },
    {
      "cell_type": "code",
      "source": [
        "# A 9:\n",
        "string = \"33.28\"\n",
        "# using float method to convert string to float\n",
        "num = float(string)\n",
        "print(num)\n",
        "print(type(num))"
      ],
      "metadata": {
        "colab": {
          "base_uri": "https://localhost:8080/"
        },
        "id": "HU8yNo4iinE-",
        "outputId": "e7b09c6a-2011-470c-977b-6ee89cafa3e8"
      },
      "execution_count": null,
      "outputs": [
        {
          "output_type": "stream",
          "name": "stdout",
          "text": [
            "33.28\n",
            "<class 'float'>\n"
          ]
        }
      ]
    },
    {
      "cell_type": "code",
      "source": [
        "string = \"33\"\n",
        "# using int method to convert string to int\n",
        "num = int(string)\n",
        "print(num)\n",
        "print(type(num))"
      ],
      "metadata": {
        "colab": {
          "base_uri": "https://localhost:8080/"
        },
        "id": "m4l0t8c9jh4V",
        "outputId": "4881b756-d756-4658-f7f1-ef4e6f7c5a76"
      },
      "execution_count": null,
      "outputs": [
        {
          "output_type": "stream",
          "name": "stdout",
          "text": [
            "33\n",
            "<class 'int'>\n"
          ]
        }
      ]
    },
    {
      "cell_type": "code",
      "source": [
        "# Q 10: Write code to demonstrate type casting with list elements.\n"
      ],
      "metadata": {
        "id": "JMpYjv75jsn-"
      },
      "execution_count": null,
      "outputs": []
    },
    {
      "cell_type": "code",
      "source": [
        "# A 10: the conversion of one data type into the other data type is known as type casting in python.\n",
        "list= [1, 2, 3, 4]\n",
        "print(list)\n",
        "print(type(0)) #the value in list is int type, we can convert it to string"
      ],
      "metadata": {
        "id": "8ZD87aXHCEsW",
        "colab": {
          "base_uri": "https://localhost:8080/"
        },
        "outputId": "1a85b8fd-765c-40d3-cab1-8d5433d87349"
      },
      "execution_count": null,
      "outputs": [
        {
          "output_type": "stream",
          "name": "stdout",
          "text": [
            "[1, 2, 3, 4]\n",
            "<class 'int'>\n"
          ]
        }
      ]
    },
    {
      "cell_type": "code",
      "source": [
        "a= str(0)\n",
        "print(type(a))"
      ],
      "metadata": {
        "colab": {
          "base_uri": "https://localhost:8080/"
        },
        "id": "Dl8xvI960XkX",
        "outputId": "44ae1138-2e85-4d07-ef64-a807b4b3313a"
      },
      "execution_count": null,
      "outputs": [
        {
          "output_type": "stream",
          "name": "stdout",
          "text": [
            "<class 'str'>\n"
          ]
        }
      ]
    },
    {
      "cell_type": "code",
      "source": [
        "# Q 11: Write a program that checks if a number is positive, negative, or zero."
      ],
      "metadata": {
        "id": "3veMztL804G7"
      },
      "execution_count": null,
      "outputs": []
    },
    {
      "cell_type": "code",
      "source": [
        "# A 11: code using if, elif, else\n",
        "num = float(input(\"Enter a number: \"))\n",
        "if num > 0:\n",
        "   print(\"Positive number\")\n",
        "elif num == 0:\n",
        "   print(\"Zero\")\n",
        "else:\n",
        "   print(\"Negative number\")"
      ],
      "metadata": {
        "colab": {
          "base_uri": "https://localhost:8080/"
        },
        "id": "69cLlp_O3hap",
        "outputId": "5ba2e867-191e-4e92-a899-021b3f9f4b44"
      },
      "execution_count": null,
      "outputs": [
        {
          "output_type": "stream",
          "name": "stdout",
          "text": [
            "Enter a number: 7\n",
            "Positive number\n"
          ]
        }
      ]
    },
    {
      "cell_type": "code",
      "source": [
        "# Q 12: Write a for loop to print numbers from 1 to 100\n"
      ],
      "metadata": {
        "id": "bxxu-Cro4jYV"
      },
      "execution_count": null,
      "outputs": []
    },
    {
      "cell_type": "code",
      "source": [
        "# A 12:\n",
        "for i in range(1, 101):\n",
        "  print(i)"
      ],
      "metadata": {
        "colab": {
          "base_uri": "https://localhost:8080/"
        },
        "id": "6_yu0noW4xRQ",
        "outputId": "b69341c6-1efc-47a5-e4ee-533ef65c12ba"
      },
      "execution_count": null,
      "outputs": [
        {
          "output_type": "stream",
          "name": "stdout",
          "text": [
            "1\n",
            "2\n",
            "3\n",
            "4\n",
            "5\n",
            "6\n",
            "7\n",
            "8\n",
            "9\n",
            "10\n",
            "11\n",
            "12\n",
            "13\n",
            "14\n",
            "15\n",
            "16\n",
            "17\n",
            "18\n",
            "19\n",
            "20\n",
            "21\n",
            "22\n",
            "23\n",
            "24\n",
            "25\n",
            "26\n",
            "27\n",
            "28\n",
            "29\n",
            "30\n",
            "31\n",
            "32\n",
            "33\n",
            "34\n",
            "35\n",
            "36\n",
            "37\n",
            "38\n",
            "39\n",
            "40\n",
            "41\n",
            "42\n",
            "43\n",
            "44\n",
            "45\n",
            "46\n",
            "47\n",
            "48\n",
            "49\n",
            "50\n",
            "51\n",
            "52\n",
            "53\n",
            "54\n",
            "55\n",
            "56\n",
            "57\n",
            "58\n",
            "59\n",
            "60\n",
            "61\n",
            "62\n",
            "63\n",
            "64\n",
            "65\n",
            "66\n",
            "67\n",
            "68\n",
            "69\n",
            "70\n",
            "71\n",
            "72\n",
            "73\n",
            "74\n",
            "75\n",
            "76\n",
            "77\n",
            "78\n",
            "79\n",
            "80\n",
            "81\n",
            "82\n",
            "83\n",
            "84\n",
            "85\n",
            "86\n",
            "87\n",
            "88\n",
            "89\n",
            "90\n",
            "91\n",
            "92\n",
            "93\n",
            "94\n",
            "95\n",
            "96\n",
            "97\n",
            "98\n",
            "99\n",
            "100\n"
          ]
        }
      ]
    },
    {
      "cell_type": "code",
      "source": [
        "# Q 13: Write a Python program to find the sum of all even numbers between 1 and 50."
      ],
      "metadata": {
        "id": "TZ4dqbYT632g"
      },
      "execution_count": null,
      "outputs": []
    },
    {
      "cell_type": "code",
      "source": [
        "# A 13: Adding the even number in range of 1 to 50\n",
        "sum_of_evens = 0 # sum taking as 0\n",
        "\n",
        "# Loop through numbers from 1 to 50\n",
        "for number in range(1, 51):\n",
        "    # Check if the number is even\n",
        "    if number % 2 == 0:\n",
        "        sum_of_evens += number  # Add it to the sum\n",
        "\n",
        "# Display the result\n",
        "print(\"The sum of even numbers from 1 to 50 is:\", sum_of_evens)"
      ],
      "metadata": {
        "colab": {
          "base_uri": "https://localhost:8080/"
        },
        "id": "_olieJwM7p44",
        "outputId": "d6b24cbb-da15-4415-a2e2-b9559229e0ac"
      },
      "execution_count": null,
      "outputs": [
        {
          "output_type": "stream",
          "name": "stdout",
          "text": [
            "The sum of even numbers from 1 to 50 is: 650\n"
          ]
        }
      ]
    },
    {
      "cell_type": "code",
      "source": [
        "# Q 14: Write a program to reverse a string using a while loop.\n",
        "# A 14: Reversing a string using while loop\n",
        "\n",
        "str = \"Gangrade\"\n",
        "print (\"The original string  is : \",str)\n",
        "reverse_string = \"\"  # Empty string\n",
        "count = len(str) # Find length of a string and save in count variable\n",
        "while count > 0:\n",
        "    reverse_string += str[ count - 1 ] # save the value of str\n",
        "    count = count - 1 # decrement index\n",
        "print (\"The reversed string using a while loop is : \",reverse_string)# reversed string"
      ],
      "metadata": {
        "colab": {
          "base_uri": "https://localhost:8080/"
        },
        "id": "4YbxpKMx8eFt",
        "outputId": "21261387-8a95-4f67-9165-777263f3e5d8"
      },
      "execution_count": null,
      "outputs": [
        {
          "output_type": "stream",
          "name": "stdout",
          "text": [
            "The original string  is :  Gangrade\n",
            "The reversed string using a while loop is :  edargnaG\n"
          ]
        }
      ]
    },
    {
      "cell_type": "code",
      "source": [
        "# Q 15:  Write a Python program to calculate the factorial of a number provided by the user using a while loop.\n"
      ],
      "metadata": {
        "id": "mAZLTobm9r8q"
      },
      "execution_count": null,
      "outputs": []
    },
    {
      "cell_type": "code",
      "source": [
        "# A 15: Calsulating factorial of the number using while loop\n",
        "n = int(input(\"Enter any number: \"))\n",
        "# f is factorial number claculated by while loop till the number is greater than 1\n",
        "f = 1\n",
        "while n >= 1:\n",
        "    f *= n\n",
        "    n -= 1\n",
        "# print output\n",
        "print(\"Factorial is\", f)"
      ],
      "metadata": {
        "colab": {
          "base_uri": "https://localhost:8080/"
        },
        "id": "9JlpnSic-QJ0",
        "outputId": "bc23ff69-e284-47fb-a1ca-c04efe80c829"
      },
      "execution_count": null,
      "outputs": [
        {
          "output_type": "stream",
          "name": "stdout",
          "text": [
            "Enter any number: 7\n",
            "Factorial is 5040\n"
          ]
        }
      ]
    },
    {
      "cell_type": "code",
      "source": [],
      "metadata": {
        "id": "O09xtM_C_W8r"
      },
      "execution_count": null,
      "outputs": []
    }
  ]
}